{
 "cells": [
  {
   "cell_type": "code",
   "execution_count": 1,
   "metadata": {},
   "outputs": [],
   "source": [
    "import numpy as np \n",
    "import pandas as pd\n",
    "import matplotlib.pyplot as plt\n",
    "\n",
    "data1 = pd.read_csv('input/Accidents0515.csv')\n",
    "data2 = pd.read_csv('input/Casualties0515.csv')\n",
    "data3 = pd.read_csv('input/Vehicles0515.csv')\n",
    "data = pd.merge(data1,data2,on='Accident_Index')"
   ]
  },
  {
   "cell_type": "code",
   "execution_count": 2,
   "metadata": {},
   "outputs": [
    {
     "name": "stdout",
     "output_type": "stream",
     "text": [
      "(1780653, 32)\n",
      "(1048575, 15)\n",
      "(1048575, 22)\n",
      "(679971, 46)\n"
     ]
    }
   ],
   "source": [
    "print(data1.shape)\n",
    "print(data2.shape)\n",
    "print(data3.shape)\n",
    "print(data.shape)"
   ]
  },
  {
   "cell_type": "code",
   "execution_count": 3,
   "metadata": {},
   "outputs": [
    {
     "data": {
      "text/html": [
       "<div>\n",
       "<style scoped>\n",
       "    .dataframe tbody tr th:only-of-type {\n",
       "        vertical-align: middle;\n",
       "    }\n",
       "\n",
       "    .dataframe tbody tr th {\n",
       "        vertical-align: top;\n",
       "    }\n",
       "\n",
       "    .dataframe thead th {\n",
       "        text-align: right;\n",
       "    }\n",
       "</style>\n",
       "<table border=\"1\" class=\"dataframe\">\n",
       "  <thead>\n",
       "    <tr style=\"text-align: right;\">\n",
       "      <th></th>\n",
       "      <th>Accident_Index</th>\n",
       "      <th>Location_Easting_OSGR</th>\n",
       "      <th>Location_Northing_OSGR</th>\n",
       "      <th>Longitude</th>\n",
       "      <th>Latitude</th>\n",
       "      <th>Police_Force</th>\n",
       "      <th>Accident_Severity</th>\n",
       "      <th>Number_of_Vehicles</th>\n",
       "      <th>Number_of_Casualties</th>\n",
       "      <th>Date</th>\n",
       "      <th>...</th>\n",
       "      <th>Was_Vehicle_Left_Hand_Drive?</th>\n",
       "      <th>Journey_Purpose_of_Driver</th>\n",
       "      <th>Sex_of_Driver</th>\n",
       "      <th>Age_of_Driver</th>\n",
       "      <th>Age_Band_of_Driver</th>\n",
       "      <th>Engine_Capacity_(CC)</th>\n",
       "      <th>Propulsion_Code</th>\n",
       "      <th>Age_of_Vehicle</th>\n",
       "      <th>Driver_IMD_Decile</th>\n",
       "      <th>Driver_Home_Area_Type</th>\n",
       "    </tr>\n",
       "  </thead>\n",
       "  <tbody>\n",
       "    <tr>\n",
       "      <th>0</th>\n",
       "      <td>200501BS00001</td>\n",
       "      <td>525680.0</td>\n",
       "      <td>178240.0</td>\n",
       "      <td>-0.191170</td>\n",
       "      <td>51.489096</td>\n",
       "      <td>1</td>\n",
       "      <td>2</td>\n",
       "      <td>1</td>\n",
       "      <td>1</td>\n",
       "      <td>04/01/2005</td>\n",
       "      <td>...</td>\n",
       "      <td>1</td>\n",
       "      <td>15</td>\n",
       "      <td>2</td>\n",
       "      <td>74</td>\n",
       "      <td>10</td>\n",
       "      <td>-1</td>\n",
       "      <td>-1</td>\n",
       "      <td>-1</td>\n",
       "      <td>7</td>\n",
       "      <td>1</td>\n",
       "    </tr>\n",
       "    <tr>\n",
       "      <th>1</th>\n",
       "      <td>200501BS00002</td>\n",
       "      <td>524170.0</td>\n",
       "      <td>181650.0</td>\n",
       "      <td>-0.211708</td>\n",
       "      <td>51.520075</td>\n",
       "      <td>1</td>\n",
       "      <td>3</td>\n",
       "      <td>1</td>\n",
       "      <td>1</td>\n",
       "      <td>05/01/2005</td>\n",
       "      <td>...</td>\n",
       "      <td>1</td>\n",
       "      <td>1</td>\n",
       "      <td>1</td>\n",
       "      <td>42</td>\n",
       "      <td>7</td>\n",
       "      <td>8268</td>\n",
       "      <td>2</td>\n",
       "      <td>3</td>\n",
       "      <td>-1</td>\n",
       "      <td>-1</td>\n",
       "    </tr>\n",
       "    <tr>\n",
       "      <th>2</th>\n",
       "      <td>200501BS00003</td>\n",
       "      <td>524520.0</td>\n",
       "      <td>182240.0</td>\n",
       "      <td>-0.206458</td>\n",
       "      <td>51.525301</td>\n",
       "      <td>1</td>\n",
       "      <td>3</td>\n",
       "      <td>2</td>\n",
       "      <td>1</td>\n",
       "      <td>06/01/2005</td>\n",
       "      <td>...</td>\n",
       "      <td>1</td>\n",
       "      <td>1</td>\n",
       "      <td>1</td>\n",
       "      <td>35</td>\n",
       "      <td>6</td>\n",
       "      <td>8300</td>\n",
       "      <td>2</td>\n",
       "      <td>5</td>\n",
       "      <td>2</td>\n",
       "      <td>1</td>\n",
       "    </tr>\n",
       "    <tr>\n",
       "      <th>3</th>\n",
       "      <td>200501BS00003</td>\n",
       "      <td>524520.0</td>\n",
       "      <td>182240.0</td>\n",
       "      <td>-0.206458</td>\n",
       "      <td>51.525301</td>\n",
       "      <td>1</td>\n",
       "      <td>3</td>\n",
       "      <td>2</td>\n",
       "      <td>1</td>\n",
       "      <td>06/01/2005</td>\n",
       "      <td>...</td>\n",
       "      <td>1</td>\n",
       "      <td>15</td>\n",
       "      <td>1</td>\n",
       "      <td>62</td>\n",
       "      <td>9</td>\n",
       "      <td>1762</td>\n",
       "      <td>1</td>\n",
       "      <td>6</td>\n",
       "      <td>1</td>\n",
       "      <td>1</td>\n",
       "    </tr>\n",
       "    <tr>\n",
       "      <th>4</th>\n",
       "      <td>200501BS00004</td>\n",
       "      <td>526900.0</td>\n",
       "      <td>177530.0</td>\n",
       "      <td>-0.173862</td>\n",
       "      <td>51.482442</td>\n",
       "      <td>1</td>\n",
       "      <td>3</td>\n",
       "      <td>1</td>\n",
       "      <td>1</td>\n",
       "      <td>07/01/2005</td>\n",
       "      <td>...</td>\n",
       "      <td>1</td>\n",
       "      <td>15</td>\n",
       "      <td>2</td>\n",
       "      <td>49</td>\n",
       "      <td>8</td>\n",
       "      <td>1769</td>\n",
       "      <td>1</td>\n",
       "      <td>4</td>\n",
       "      <td>2</td>\n",
       "      <td>1</td>\n",
       "    </tr>\n",
       "  </tbody>\n",
       "</table>\n",
       "<p>5 rows × 67 columns</p>\n",
       "</div>"
      ],
      "text/plain": [
       "  Accident_Index  Location_Easting_OSGR  Location_Northing_OSGR  Longitude  \\\n",
       "0  200501BS00001               525680.0                178240.0  -0.191170   \n",
       "1  200501BS00002               524170.0                181650.0  -0.211708   \n",
       "2  200501BS00003               524520.0                182240.0  -0.206458   \n",
       "3  200501BS00003               524520.0                182240.0  -0.206458   \n",
       "4  200501BS00004               526900.0                177530.0  -0.173862   \n",
       "\n",
       "    Latitude  Police_Force  Accident_Severity  Number_of_Vehicles  \\\n",
       "0  51.489096             1                  2                   1   \n",
       "1  51.520075             1                  3                   1   \n",
       "2  51.525301             1                  3                   2   \n",
       "3  51.525301             1                  3                   2   \n",
       "4  51.482442             1                  3                   1   \n",
       "\n",
       "   Number_of_Casualties        Date  ...  Was_Vehicle_Left_Hand_Drive?  \\\n",
       "0                     1  04/01/2005  ...                             1   \n",
       "1                     1  05/01/2005  ...                             1   \n",
       "2                     1  06/01/2005  ...                             1   \n",
       "3                     1  06/01/2005  ...                             1   \n",
       "4                     1  07/01/2005  ...                             1   \n",
       "\n",
       "  Journey_Purpose_of_Driver  Sex_of_Driver Age_of_Driver  Age_Band_of_Driver  \\\n",
       "0                        15              2            74                  10   \n",
       "1                         1              1            42                   7   \n",
       "2                         1              1            35                   6   \n",
       "3                        15              1            62                   9   \n",
       "4                        15              2            49                   8   \n",
       "\n",
       "   Engine_Capacity_(CC)  Propulsion_Code  Age_of_Vehicle  Driver_IMD_Decile  \\\n",
       "0                    -1               -1              -1                  7   \n",
       "1                  8268                2               3                 -1   \n",
       "2                  8300                2               5                  2   \n",
       "3                  1762                1               6                  1   \n",
       "4                  1769                1               4                  2   \n",
       "\n",
       "   Driver_Home_Area_Type  \n",
       "0                      1  \n",
       "1                     -1  \n",
       "2                      1  \n",
       "3                      1  \n",
       "4                      1  \n",
       "\n",
       "[5 rows x 67 columns]"
      ]
     },
     "execution_count": 3,
     "metadata": {},
     "output_type": "execute_result"
    }
   ],
   "source": [
    "final_data = pd.merge(data,data3,on='Accident_Index')\n",
    "final_data.head()"
   ]
  },
  {
   "cell_type": "code",
   "execution_count": 4,
   "metadata": {},
   "outputs": [
    {
     "name": "stdout",
     "output_type": "stream",
     "text": [
      "(679971, 46)\n",
      "(961906, 67)\n"
     ]
    }
   ],
   "source": [
    "print(data.shape)\n",
    "print(final_data.shape)"
   ]
  },
  {
   "cell_type": "markdown",
   "metadata": {},
   "source": [
    "<b>Casuality Severity & Number of Casualities -> Response Variables</b>"
   ]
  },
  {
   "cell_type": "code",
   "execution_count": 5,
   "metadata": {},
   "outputs": [],
   "source": [
    "fd = final_data[final_data.T[final_data.dtypes!=np.object].index]\n",
    "fd = fd.dropna()"
   ]
  },
  {
   "cell_type": "code",
   "execution_count": 6,
   "metadata": {},
   "outputs": [
    {
     "data": {
      "text/html": [
       "<div>\n",
       "<style scoped>\n",
       "    .dataframe tbody tr th:only-of-type {\n",
       "        vertical-align: middle;\n",
       "    }\n",
       "\n",
       "    .dataframe tbody tr th {\n",
       "        vertical-align: top;\n",
       "    }\n",
       "\n",
       "    .dataframe thead th {\n",
       "        text-align: right;\n",
       "    }\n",
       "</style>\n",
       "<table border=\"1\" class=\"dataframe\">\n",
       "  <thead>\n",
       "    <tr style=\"text-align: right;\">\n",
       "      <th></th>\n",
       "      <th>Location_Easting_OSGR</th>\n",
       "      <th>Location_Northing_OSGR</th>\n",
       "      <th>Longitude</th>\n",
       "      <th>Latitude</th>\n",
       "      <th>Police_Force</th>\n",
       "      <th>Accident_Severity</th>\n",
       "      <th>Number_of_Vehicles</th>\n",
       "      <th>Day_of_Week</th>\n",
       "      <th>Local_Authority_(District)</th>\n",
       "      <th>1st_Road_Class</th>\n",
       "      <th>...</th>\n",
       "      <th>Was_Vehicle_Left_Hand_Drive?</th>\n",
       "      <th>Journey_Purpose_of_Driver</th>\n",
       "      <th>Sex_of_Driver</th>\n",
       "      <th>Age_of_Driver</th>\n",
       "      <th>Age_Band_of_Driver</th>\n",
       "      <th>Engine_Capacity_(CC)</th>\n",
       "      <th>Propulsion_Code</th>\n",
       "      <th>Age_of_Vehicle</th>\n",
       "      <th>Driver_IMD_Decile</th>\n",
       "      <th>Driver_Home_Area_Type</th>\n",
       "    </tr>\n",
       "  </thead>\n",
       "  <tbody>\n",
       "    <tr>\n",
       "      <th>0</th>\n",
       "      <td>525680.0</td>\n",
       "      <td>178240.0</td>\n",
       "      <td>-0.191170</td>\n",
       "      <td>51.489096</td>\n",
       "      <td>1</td>\n",
       "      <td>2</td>\n",
       "      <td>1</td>\n",
       "      <td>3</td>\n",
       "      <td>12</td>\n",
       "      <td>3</td>\n",
       "      <td>...</td>\n",
       "      <td>1</td>\n",
       "      <td>15</td>\n",
       "      <td>2</td>\n",
       "      <td>74</td>\n",
       "      <td>10</td>\n",
       "      <td>-1</td>\n",
       "      <td>-1</td>\n",
       "      <td>-1</td>\n",
       "      <td>7</td>\n",
       "      <td>1</td>\n",
       "    </tr>\n",
       "    <tr>\n",
       "      <th>1</th>\n",
       "      <td>524170.0</td>\n",
       "      <td>181650.0</td>\n",
       "      <td>-0.211708</td>\n",
       "      <td>51.520075</td>\n",
       "      <td>1</td>\n",
       "      <td>3</td>\n",
       "      <td>1</td>\n",
       "      <td>4</td>\n",
       "      <td>12</td>\n",
       "      <td>4</td>\n",
       "      <td>...</td>\n",
       "      <td>1</td>\n",
       "      <td>1</td>\n",
       "      <td>1</td>\n",
       "      <td>42</td>\n",
       "      <td>7</td>\n",
       "      <td>8268</td>\n",
       "      <td>2</td>\n",
       "      <td>3</td>\n",
       "      <td>-1</td>\n",
       "      <td>-1</td>\n",
       "    </tr>\n",
       "    <tr>\n",
       "      <th>2</th>\n",
       "      <td>524520.0</td>\n",
       "      <td>182240.0</td>\n",
       "      <td>-0.206458</td>\n",
       "      <td>51.525301</td>\n",
       "      <td>1</td>\n",
       "      <td>3</td>\n",
       "      <td>2</td>\n",
       "      <td>5</td>\n",
       "      <td>12</td>\n",
       "      <td>5</td>\n",
       "      <td>...</td>\n",
       "      <td>1</td>\n",
       "      <td>1</td>\n",
       "      <td>1</td>\n",
       "      <td>35</td>\n",
       "      <td>6</td>\n",
       "      <td>8300</td>\n",
       "      <td>2</td>\n",
       "      <td>5</td>\n",
       "      <td>2</td>\n",
       "      <td>1</td>\n",
       "    </tr>\n",
       "    <tr>\n",
       "      <th>3</th>\n",
       "      <td>524520.0</td>\n",
       "      <td>182240.0</td>\n",
       "      <td>-0.206458</td>\n",
       "      <td>51.525301</td>\n",
       "      <td>1</td>\n",
       "      <td>3</td>\n",
       "      <td>2</td>\n",
       "      <td>5</td>\n",
       "      <td>12</td>\n",
       "      <td>5</td>\n",
       "      <td>...</td>\n",
       "      <td>1</td>\n",
       "      <td>15</td>\n",
       "      <td>1</td>\n",
       "      <td>62</td>\n",
       "      <td>9</td>\n",
       "      <td>1762</td>\n",
       "      <td>1</td>\n",
       "      <td>6</td>\n",
       "      <td>1</td>\n",
       "      <td>1</td>\n",
       "    </tr>\n",
       "    <tr>\n",
       "      <th>4</th>\n",
       "      <td>526900.0</td>\n",
       "      <td>177530.0</td>\n",
       "      <td>-0.173862</td>\n",
       "      <td>51.482442</td>\n",
       "      <td>1</td>\n",
       "      <td>3</td>\n",
       "      <td>1</td>\n",
       "      <td>6</td>\n",
       "      <td>12</td>\n",
       "      <td>3</td>\n",
       "      <td>...</td>\n",
       "      <td>1</td>\n",
       "      <td>15</td>\n",
       "      <td>2</td>\n",
       "      <td>49</td>\n",
       "      <td>8</td>\n",
       "      <td>1769</td>\n",
       "      <td>1</td>\n",
       "      <td>4</td>\n",
       "      <td>2</td>\n",
       "      <td>1</td>\n",
       "    </tr>\n",
       "  </tbody>\n",
       "</table>\n",
       "<p>5 rows × 61 columns</p>\n",
       "</div>"
      ],
      "text/plain": [
       "   Location_Easting_OSGR  Location_Northing_OSGR  Longitude   Latitude  \\\n",
       "0               525680.0                178240.0  -0.191170  51.489096   \n",
       "1               524170.0                181650.0  -0.211708  51.520075   \n",
       "2               524520.0                182240.0  -0.206458  51.525301   \n",
       "3               524520.0                182240.0  -0.206458  51.525301   \n",
       "4               526900.0                177530.0  -0.173862  51.482442   \n",
       "\n",
       "   Police_Force  Accident_Severity  Number_of_Vehicles  Day_of_Week  \\\n",
       "0             1                  2                   1            3   \n",
       "1             1                  3                   1            4   \n",
       "2             1                  3                   2            5   \n",
       "3             1                  3                   2            5   \n",
       "4             1                  3                   1            6   \n",
       "\n",
       "   Local_Authority_(District)  1st_Road_Class  ...  \\\n",
       "0                          12               3  ...   \n",
       "1                          12               4  ...   \n",
       "2                          12               5  ...   \n",
       "3                          12               5  ...   \n",
       "4                          12               3  ...   \n",
       "\n",
       "   Was_Vehicle_Left_Hand_Drive?  Journey_Purpose_of_Driver  Sex_of_Driver  \\\n",
       "0                             1                         15              2   \n",
       "1                             1                          1              1   \n",
       "2                             1                          1              1   \n",
       "3                             1                         15              1   \n",
       "4                             1                         15              2   \n",
       "\n",
       "   Age_of_Driver  Age_Band_of_Driver  Engine_Capacity_(CC)  Propulsion_Code  \\\n",
       "0             74                  10                    -1               -1   \n",
       "1             42                   7                  8268                2   \n",
       "2             35                   6                  8300                2   \n",
       "3             62                   9                  1762                1   \n",
       "4             49                   8                  1769                1   \n",
       "\n",
       "   Age_of_Vehicle  Driver_IMD_Decile  Driver_Home_Area_Type  \n",
       "0              -1                  7                      1  \n",
       "1               3                 -1                     -1  \n",
       "2               5                  2                      1  \n",
       "3               6                  1                      1  \n",
       "4               4                  2                      1  \n",
       "\n",
       "[5 rows x 61 columns]"
      ]
     },
     "execution_count": 6,
     "metadata": {},
     "output_type": "execute_result"
    }
   ],
   "source": [
    "y1 = pd.cut(fd['Number_of_Casualties'], bins=[0, 1, 2, 3, 4, 5, 6, 7, 8, 9, 100 ], labels=np.array('1 2 3 4 5 6 7 8 9 >9'.split()))\n",
    "X = fd\n",
    "del X['Number_of_Casualties']\n",
    "\n",
    "X.head()"
   ]
  },
  {
   "cell_type": "markdown",
   "metadata": {},
   "source": [
    "<b>Plot Frequencies of Number_Of_Casualties</b>"
   ]
  },
  {
   "cell_type": "code",
   "execution_count": 7,
   "metadata": {},
   "outputs": [
    {
     "data": {
      "image/png": "[encoded data removed]",
      "text/plain": [
       "<Figure size 432x288 with 1 Axes>"
      ]
     },
     "metadata": {
      "needs_background": "light"
     },
     "output_type": "display_data"
    }
   ],
   "source": [
    "import matplotlib.pyplot as plt\n",
    "import pandas\n",
    "\n",
    "fig, ax = plt.subplots()\n",
    "y1.value_counts().plot(ax=ax, kind='bar', color='black')\n",
    "plt.xlabel('Number_Of_Casualties')\n",
    "plt.ylabel('Number of Samples')\n",
    "plt.show()"
   ]
  },
  {
   "cell_type": "markdown",
   "metadata": {},
   "source": [
    "<b>Selecting Features</b>"
   ]
  },
  {
   "cell_type": "code",
   "execution_count": 8,
   "metadata": {},
   "outputs": [
    {
     "name": "stdout",
     "output_type": "stream",
     "text": [
      "(865593, 61)\n"
     ]
    }
   ],
   "source": [
    "from sklearn.model_selection import train_test_split\n",
    "X_train, X_test, y1_train, y1_test = train_test_split(X, y1, test_size=0.10, random_state=42)\n",
    "print(X_train.shape)"
   ]
  },
  {
   "cell_type": "code",
   "execution_count": 9,
   "metadata": {},
   "outputs": [
    {
     "name": "stderr",
     "output_type": "stream",
     "text": [
      "C:\\Users\\HP\\Anaconda\\envs\\MachineLearning\\lib\\site-packages\\sklearn\\feature_selection\\_univariate_selection.py:115: UserWarning: Features [37] are constant.\n",
      "  UserWarning)\n",
      "C:\\Users\\HP\\Anaconda\\envs\\MachineLearning\\lib\\site-packages\\sklearn\\feature_selection\\_univariate_selection.py:116: RuntimeWarning: invalid value encountered in true_divide\n",
      "  f = msb / msw\n"
     ]
    },
    {
     "name": "stdout",
     "output_type": "stream",
     "text": [
      "X.shape is: (961770, 61)\n",
      "X_selected.shape is: (961770, 30)\n"
     ]
    }
   ],
   "source": [
    "from sklearn.feature_selection import SelectPercentile\n",
    "from sklearn.linear_model import LogisticRegression\n",
    "\n",
    "select = SelectPercentile(percentile=50)\n",
    "select.fit(X, y1)\n",
    "X_selected = select.transform(X)\n",
    "\n",
    "print('X.shape is: {}'.format(X.shape))\n",
    "print('X_selected.shape is: {}'.format(X_selected.shape))"
   ]
  },
  {
   "cell_type": "code",
   "execution_count": 10,
   "metadata": {},
   "outputs": [
    {
     "name": "stdout",
     "output_type": "stream",
     "text": [
      "[ True  True  True  True False  True  True False False  True False False\n",
      "  True False  True  True False False False  True False  True False False\n",
      "  True  True  True  True  True  True False False False  True  True  True\n",
      "  True False  True False  True False False False False  True False False\n",
      " False False False False False False  True  True  True  True False False\n",
      "  True]\n"
     ]
    },
    {
     "data": {
      "text/plain": [
       "<matplotlib.image.AxesImage at 0x183375a45f8>"
      ]
     },
     "execution_count": 10,
     "metadata": {},
     "output_type": "execute_result"
    },
    {
     "data": {
      "image/png": "[encoded data removed]",
      "text/plain": [
       "<Figure size 1152x144 with 1 Axes>"
      ]
     },
     "metadata": {
      "needs_background": "light"
     },
     "output_type": "display_data"
    }
   ],
   "source": [
    "%matplotlib inline\n",
    "masked_feaures_ftest = select.get_support()\n",
    "print(masked_feaures_ftest)\n",
    "plt.matshow(masked_feaures_ftest.reshape(1,-1), cmap='gray_r')"
   ]
  },
  {
   "cell_type": "code",
   "execution_count": 11,
   "metadata": {},
   "outputs": [
    {
     "name": "stdout",
     "output_type": "stream",
     "text": [
      "Total number of features selected via f-test : 30\n"
     ]
    }
   ],
   "source": [
    "print(\"Total number of features selected via f-test : \" + str((masked_feaures_ftest==True).sum()) )"
   ]
  },
  {
   "cell_type": "code",
   "execution_count": 12,
   "metadata": {},
   "outputs": [
    {
     "name": "stdout",
     "output_type": "stream",
     "text": [
      "(9617, 61)\n"
     ]
    }
   ],
   "source": [
    "from sklearn.model_selection import train_test_split\n",
    "X_train, X_test, y1_train, y1_test = train_test_split(X, y1, test_size=0.99, random_state=43)\n",
    "print(X_train.shape)"
   ]
  },
  {
   "cell_type": "code",
   "execution_count": 13,
   "metadata": {},
   "outputs": [],
   "source": [
    "from sklearn.neighbors import KNeighborsClassifier\n",
    "knn = KNeighborsClassifier(n_neighbors=4)"
   ]
  },
  {
   "cell_type": "code",
   "execution_count": 14,
   "metadata": {},
   "outputs": [
    {
     "name": "stderr",
     "output_type": "stream",
     "text": [
      "C:\\Users\\HP\\Anaconda\\envs\\MachineLearning\\lib\\site-packages\\ipykernel_launcher.py:11: FutureWarning: Method .as_matrix will be removed in a future version. Use .values instead.\n",
      "  # This is added back by InteractiveShellApp.init_path()\n",
      "[Parallel(n_jobs=1)]: Using backend SequentialBackend with 1 concurrent workers.\n",
      "[Parallel(n_jobs=1)]: Done   1 out of   1 | elapsed:    0.7s remaining:    0.0s\n",
      "[Parallel(n_jobs=1)]: Done  61 out of  61 | elapsed:   54.0s finished\n",
      "\n",
      "[2020-10-13 15:55:22] Features: 1/20 -- score: 0.6980347301653322[Parallel(n_jobs=1)]: Using backend SequentialBackend with 1 concurrent workers.\n",
      "[Parallel(n_jobs=1)]: Done   1 out of   1 | elapsed:    0.2s remaining:    0.0s\n",
      "[Parallel(n_jobs=1)]: Done  60 out of  60 | elapsed:   41.4s finished\n",
      "\n",
      "[2020-10-13 15:56:03] Features: 2/20 -- score: 0.7308932099407299[Parallel(n_jobs=1)]: Using backend SequentialBackend with 1 concurrent workers.\n",
      "[Parallel(n_jobs=1)]: Done   1 out of   1 | elapsed:    0.3s remaining:    0.0s\n",
      "[Parallel(n_jobs=1)]: Done  59 out of  59 | elapsed:   25.6s finished\n",
      "\n",
      "[2020-10-13 15:56:29] Features: 3/20 -- score: 0.7383799521680358[Parallel(n_jobs=1)]: Using backend SequentialBackend with 1 concurrent workers.\n",
      "[Parallel(n_jobs=1)]: Done   1 out of   1 | elapsed:    0.3s remaining:    0.0s\n",
      "[Parallel(n_jobs=1)]: Done  58 out of  58 | elapsed:   34.8s finished\n",
      "\n",
      "[2020-10-13 15:57:04] Features: 4/20 -- score: 0.7420193407507538[Parallel(n_jobs=1)]: Using backend SequentialBackend with 1 concurrent workers.\n",
      "[Parallel(n_jobs=1)]: Done   1 out of   1 | elapsed:    0.3s remaining:    0.0s\n",
      "[Parallel(n_jobs=1)]: Done  57 out of  57 | elapsed:   38.7s finished\n",
      "\n",
      "[2020-10-13 15:57:43] Features: 5/20 -- score: 0.7448268690859936[Parallel(n_jobs=1)]: Using backend SequentialBackend with 1 concurrent workers.\n",
      "[Parallel(n_jobs=1)]: Done   1 out of   1 | elapsed:    0.3s remaining:    0.0s\n",
      "[Parallel(n_jobs=1)]: Done  56 out of  56 | elapsed:   39.9s finished\n",
      "\n",
      "[2020-10-13 15:58:23] Features: 6/20 -- score: 0.7463866070500156[Parallel(n_jobs=1)]: Using backend SequentialBackend with 1 concurrent workers.\n",
      "[Parallel(n_jobs=1)]: Done   1 out of   1 | elapsed:    0.4s remaining:    0.0s\n",
      "[Parallel(n_jobs=1)]: Done  55 out of  55 | elapsed:   42.4s finished\n",
      "\n",
      "[2020-10-13 15:59:05] Features: 7/20 -- score: 0.7470105022356244[Parallel(n_jobs=1)]: Using backend SequentialBackend with 1 concurrent workers.\n",
      "[Parallel(n_jobs=1)]: Done   1 out of   1 | elapsed:    0.4s remaining:    0.0s\n",
      "[Parallel(n_jobs=1)]: Done  54 out of  54 | elapsed:   43.0s finished\n",
      "\n",
      "[2020-10-13 15:59:48] Features: 8/20 -- score: 0.7477383799521681[Parallel(n_jobs=1)]: Using backend SequentialBackend with 1 concurrent workers.\n",
      "[Parallel(n_jobs=1)]: Done   1 out of   1 | elapsed:    0.4s remaining:    0.0s\n",
      "[Parallel(n_jobs=1)]: Done  53 out of  53 | elapsed:   44.2s finished\n",
      "\n",
      "[2020-10-13 16:00:33] Features: 9/20 -- score: 0.7477383799521681[Parallel(n_jobs=1)]: Using backend SequentialBackend with 1 concurrent workers.\n",
      "[Parallel(n_jobs=1)]: Done   1 out of   1 | elapsed:    0.4s remaining:    0.0s\n",
      "[Parallel(n_jobs=1)]: Done  52 out of  52 | elapsed:   45.9s finished\n",
      "\n",
      "[2020-10-13 16:01:19] Features: 10/20 -- score: 0.7475304148902985[Parallel(n_jobs=1)]: Using backend SequentialBackend with 1 concurrent workers.\n",
      "[Parallel(n_jobs=1)]: Done   1 out of   1 | elapsed:    0.4s remaining:    0.0s\n",
      "[Parallel(n_jobs=1)]: Done  51 out of  51 | elapsed:   46.5s finished\n",
      "\n",
      "[2020-10-13 16:02:05] Features: 11/20 -- score: 0.747218467297494[Parallel(n_jobs=1)]: Using backend SequentialBackend with 1 concurrent workers.\n",
      "[Parallel(n_jobs=1)]: Done   1 out of   1 | elapsed:    0.4s remaining:    0.0s\n",
      "[Parallel(n_jobs=1)]: Done  50 out of  50 | elapsed:   47.3s finished\n",
      "\n",
      "[2020-10-13 16:02:53] Features: 12/20 -- score: 0.7473224498284288[Parallel(n_jobs=1)]: Using backend SequentialBackend with 1 concurrent workers.\n",
      "[Parallel(n_jobs=1)]: Done   1 out of   1 | elapsed:    0.4s remaining:    0.0s\n",
      "[Parallel(n_jobs=1)]: Done  49 out of  49 | elapsed:   54.4s finished\n",
      "\n",
      "[2020-10-13 16:03:47] Features: 13/20 -- score: 0.7469065197046896[Parallel(n_jobs=1)]: Using backend SequentialBackend with 1 concurrent workers.\n",
      "[Parallel(n_jobs=1)]: Done   1 out of   1 | elapsed:    0.4s remaining:    0.0s\n",
      "[Parallel(n_jobs=1)]: Done  48 out of  48 | elapsed:   57.0s finished\n",
      "\n",
      "[2020-10-13 16:04:44] Features: 14/20 -- score: 0.7464905895809504[Parallel(n_jobs=1)]: Using backend SequentialBackend with 1 concurrent workers.\n",
      "[Parallel(n_jobs=1)]: Done   1 out of   1 | elapsed:    0.4s remaining:    0.0s\n",
      "[Parallel(n_jobs=1)]: Done  47 out of  47 | elapsed:  1.1min finished\n",
      "\n",
      "[2020-10-13 16:05:50] Features: 15/20 -- score: 0.745658729333472[Parallel(n_jobs=1)]: Using backend SequentialBackend with 1 concurrent workers.\n",
      "[Parallel(n_jobs=1)]: Done   1 out of   1 | elapsed:    0.4s remaining:    0.0s\n",
      "[Parallel(n_jobs=1)]: Done  46 out of  46 | elapsed:  1.2min finished\n",
      "\n",
      "[2020-10-13 16:07:02] Features: 16/20 -- score: 0.7442029739003847[Parallel(n_jobs=1)]: Using backend SequentialBackend with 1 concurrent workers.\n",
      "[Parallel(n_jobs=1)]: Done   1 out of   1 | elapsed:    0.5s remaining:    0.0s\n",
      "[Parallel(n_jobs=1)]: Done  45 out of  45 | elapsed:  1.2min finished\n",
      "\n",
      "[2020-10-13 16:08:16] Features: 17/20 -- score: 0.7429551835291671[Parallel(n_jobs=1)]: Using backend SequentialBackend with 1 concurrent workers.\n",
      "[Parallel(n_jobs=1)]: Done   1 out of   1 | elapsed:    0.4s remaining:    0.0s\n",
      "[Parallel(n_jobs=1)]: Done  44 out of  44 | elapsed:  1.3min finished\n",
      "\n",
      "[2020-10-13 16:09:33] Features: 18/20 -- score: 0.741395445565145[Parallel(n_jobs=1)]: Using backend SequentialBackend with 1 concurrent workers.\n",
      "[Parallel(n_jobs=1)]: Done   1 out of   1 | elapsed:    0.4s remaining:    0.0s\n",
      "[Parallel(n_jobs=1)]: Done  43 out of  43 | elapsed:  1.3min finished\n",
      "\n",
      "[2020-10-13 16:10:54] Features: 19/20 -- score: 0.7388998648227098[Parallel(n_jobs=1)]: Using backend SequentialBackend with 1 concurrent workers.\n",
      "[Parallel(n_jobs=1)]: Done   1 out of   1 | elapsed:    0.5s remaining:    0.0s\n",
      "[Parallel(n_jobs=1)]: Done  42 out of  42 | elapsed:  1.3min finished\n",
      "\n",
      "[2020-10-13 16:12:14] Features: 20/20 -- score: 0.7371321617968182"
     ]
    },
    {
     "data": {
      "text/plain": [
       "(3, 5, 6, 17, 21, 22, 23, 25, 26, 27, 32, 33, 34, 36, 37, 38, 42, 44, 46, 51)"
      ]
     },
     "execution_count": 14,
     "metadata": {},
     "output_type": "execute_result"
    }
   ],
   "source": [
    "from mlxtend.feature_selection import SequentialFeatureSelector as SFS\n",
    "\n",
    "sfs1 = SFS(knn, \n",
    "           k_features=20, \n",
    "           forward=True, \n",
    "           floating=False, \n",
    "           verbose=2,\n",
    "           scoring='accuracy',\n",
    "           cv=0)\n",
    "\n",
    "sfs11 = sfs1.fit(X_train.as_matrix(), y1_train.as_matrix())\n",
    "sfs11.k_feature_idx_"
   ]
  },
  {
   "cell_type": "code",
   "execution_count": 15,
   "metadata": {},
   "outputs": [
    {
     "name": "stdout",
     "output_type": "stream",
     "text": [
      "[0. 0. 0. 1. 0. 1. 1. 0. 0. 0. 0. 0. 0. 0. 0. 0. 0. 1. 0. 0. 0. 1. 1. 1.\n",
      " 0. 1. 1. 1. 0. 0. 0. 0. 1. 1. 1. 0. 1. 1. 1. 0. 0. 0. 1. 0. 1. 0. 1. 0.\n",
      " 0. 0. 0. 1. 0. 0. 0. 0. 0. 0. 0. 0. 0.]\n"
     ]
    },
    {
     "data": {
      "text/plain": [
       "<matplotlib.image.AxesImage at 0x18337627cc0>"
      ]
     },
     "execution_count": 15,
     "metadata": {},
     "output_type": "execute_result"
    },
    {
     "data": {
      "image/png": "[encoded data removed]",
      "text/plain": [
       "<Figure size 1152x144 with 1 Axes>"
      ]
     },
     "metadata": {
      "needs_background": "light"
     },
     "output_type": "display_data"
    }
   ],
   "source": [
    "vals = np.array(sfs11.k_feature_idx_)\n",
    "masked_feaures_sfs = np.zeros(61)\n",
    "for i in vals:\n",
    "    masked_feaures_sfs[i]=1\n",
    "print(masked_feaures_sfs)\n",
    "plt.matshow(masked_feaures_sfs.reshape(1,-1), cmap='gray_r')"
   ]
  },
  {
   "cell_type": "code",
   "execution_count": 16,
   "metadata": {},
   "outputs": [
    {
     "name": "stdout",
     "output_type": "stream",
     "text": [
      "Total number of features selected via SFS : 20\n"
     ]
    }
   ],
   "source": [
    "print(\"Total number of features selected via SFS : \" + str((masked_feaures_sfs==True).sum()) )"
   ]
  },
  {
   "cell_type": "code",
   "execution_count": 17,
   "metadata": {},
   "outputs": [
    {
     "name": "stderr",
     "output_type": "stream",
     "text": [
      "C:\\Users\\HP\\Anaconda\\envs\\MachineLearning\\lib\\site-packages\\ipykernel_launcher.py:9: FutureWarning: Method .as_matrix will be removed in a future version. Use .values instead.\n",
      "  if __name__ == '__main__':\n",
      "[Parallel(n_jobs=1)]: Using backend SequentialBackend with 1 concurrent workers.\n",
      "[Parallel(n_jobs=1)]: Done   1 out of   1 | elapsed:    0.9s remaining:    0.0s\n",
      "[Parallel(n_jobs=1)]: Done  61 out of  61 | elapsed:  1.1min finished\n",
      "\n",
      "[2020-10-13 16:13:19] Features: 60/20 -- score: 0.6176562337527295[Parallel(n_jobs=1)]: Using backend SequentialBackend with 1 concurrent workers.\n",
      "[Parallel(n_jobs=1)]: Done   1 out of   1 | elapsed:    0.9s remaining:    0.0s\n",
      "[Parallel(n_jobs=1)]: Done  60 out of  60 | elapsed:   58.9s finished\n",
      "\n",
      "[2020-10-13 16:14:18] Features: 59/20 -- score: 0.6177602162836644[Parallel(n_jobs=1)]: Using backend SequentialBackend with 1 concurrent workers.\n",
      "[Parallel(n_jobs=1)]: Done   1 out of   1 | elapsed:    0.9s remaining:    0.0s\n",
      "[Parallel(n_jobs=1)]: Done  59 out of  59 | elapsed:   56.5s finished\n",
      "\n",
      "[2020-10-13 16:15:15] Features: 58/20 -- score: 0.6178641988145992[Parallel(n_jobs=1)]: Using backend SequentialBackend with 1 concurrent workers.\n",
      "[Parallel(n_jobs=1)]: Done   1 out of   1 | elapsed:    0.9s remaining:    0.0s\n",
      "[Parallel(n_jobs=1)]: Done  58 out of  58 | elapsed:   55.4s finished\n",
      "\n",
      "[2020-10-13 16:16:10] Features: 57/20 -- score: 0.6178641988145992[Parallel(n_jobs=1)]: Using backend SequentialBackend with 1 concurrent workers.\n",
      "[Parallel(n_jobs=1)]: Done   1 out of   1 | elapsed:    0.8s remaining:    0.0s\n",
      "[Parallel(n_jobs=1)]: Done  57 out of  57 | elapsed:  1.0min finished\n",
      "\n",
      "[2020-10-13 16:17:11] Features: 56/20 -- score: 0.6178641988145992[Parallel(n_jobs=1)]: Using backend SequentialBackend with 1 concurrent workers.\n",
      "[Parallel(n_jobs=1)]: Done   1 out of   1 | elapsed:    1.4s remaining:    0.0s\n",
      "[Parallel(n_jobs=1)]: Done  56 out of  56 | elapsed:  1.1min finished\n",
      "\n",
      "[2020-10-13 16:18:15] Features: 55/20 -- score: 0.6178641988145992[Parallel(n_jobs=1)]: Using backend SequentialBackend with 1 concurrent workers.\n",
      "[Parallel(n_jobs=1)]: Done   1 out of   1 | elapsed:    1.2s remaining:    0.0s\n",
      "[Parallel(n_jobs=1)]: Done  55 out of  55 | elapsed:   54.4s finished\n",
      "\n",
      "[2020-10-13 16:19:09] Features: 54/20 -- score: 0.6178641988145992[Parallel(n_jobs=1)]: Using backend SequentialBackend with 1 concurrent workers.\n",
      "[Parallel(n_jobs=1)]: Done   1 out of   1 | elapsed:    0.8s remaining:    0.0s\n",
      "[Parallel(n_jobs=1)]: Done  54 out of  54 | elapsed:   49.2s finished\n",
      "\n",
      "[2020-10-13 16:19:58] Features: 53/20 -- score: 0.6178641988145992[Parallel(n_jobs=1)]: Using backend SequentialBackend with 1 concurrent workers.\n",
      "[Parallel(n_jobs=1)]: Done   1 out of   1 | elapsed:    0.8s remaining:    0.0s\n",
      "[Parallel(n_jobs=1)]: Done  53 out of  53 | elapsed:   47.5s finished\n",
      "\n",
      "[2020-10-13 16:20:46] Features: 52/20 -- score: 0.6178641988145992[Parallel(n_jobs=1)]: Using backend SequentialBackend with 1 concurrent workers.\n",
      "[Parallel(n_jobs=1)]: Done   1 out of   1 | elapsed:    0.8s remaining:    0.0s\n",
      "[Parallel(n_jobs=1)]: Done  52 out of  52 | elapsed:   46.0s finished\n",
      "\n",
      "[2020-10-13 16:21:32] Features: 51/20 -- score: 0.6178641988145992[Parallel(n_jobs=1)]: Using backend SequentialBackend with 1 concurrent workers.\n",
      "[Parallel(n_jobs=1)]: Done   1 out of   1 | elapsed:    0.8s remaining:    0.0s\n",
      "[Parallel(n_jobs=1)]: Done  51 out of  51 | elapsed:   44.7s finished\n",
      "\n",
      "[2020-10-13 16:22:17] Features: 50/20 -- score: 0.6178641988145992[Parallel(n_jobs=1)]: Using backend SequentialBackend with 1 concurrent workers.\n",
      "[Parallel(n_jobs=1)]: Done   1 out of   1 | elapsed:    0.8s remaining:    0.0s\n",
      "[Parallel(n_jobs=1)]: Done  50 out of  50 | elapsed:   43.5s finished\n",
      "\n",
      "[2020-10-13 16:23:00] Features: 49/20 -- score: 0.6178641988145992[Parallel(n_jobs=1)]: Using backend SequentialBackend with 1 concurrent workers.\n",
      "[Parallel(n_jobs=1)]: Done   1 out of   1 | elapsed:    0.7s remaining:    0.0s\n",
      "[Parallel(n_jobs=1)]: Done  49 out of  49 | elapsed:   42.2s finished\n",
      "\n",
      "[2020-10-13 16:23:43] Features: 48/20 -- score: 0.6178641988145992[Parallel(n_jobs=1)]: Using backend SequentialBackend with 1 concurrent workers.\n",
      "[Parallel(n_jobs=1)]: Done   1 out of   1 | elapsed:    0.7s remaining:    0.0s\n",
      "[Parallel(n_jobs=1)]: Done  48 out of  48 | elapsed:   41.5s finished\n",
      "\n",
      "[2020-10-13 16:24:24] Features: 47/20 -- score: 0.6178641988145992[Parallel(n_jobs=1)]: Using backend SequentialBackend with 1 concurrent workers.\n",
      "[Parallel(n_jobs=1)]: Done   1 out of   1 | elapsed:    0.7s remaining:    0.0s\n",
      "[Parallel(n_jobs=1)]: Done  47 out of  47 | elapsed:   39.5s finished\n",
      "\n",
      "[2020-10-13 16:25:04] Features: 46/20 -- score: 0.6178641988145992[Parallel(n_jobs=1)]: Using backend SequentialBackend with 1 concurrent workers.\n",
      "[Parallel(n_jobs=1)]: Done   1 out of   1 | elapsed:    0.7s remaining:    0.0s\n",
      "[Parallel(n_jobs=1)]: Done  46 out of  46 | elapsed:   38.3s finished\n",
      "\n",
      "[2020-10-13 16:25:42] Features: 45/20 -- score: 0.6178641988145992[Parallel(n_jobs=1)]: Using backend SequentialBackend with 1 concurrent workers.\n",
      "[Parallel(n_jobs=1)]: Done   1 out of   1 | elapsed:    0.7s remaining:    0.0s\n",
      "[Parallel(n_jobs=1)]: Done  45 out of  45 | elapsed:   36.7s finished\n",
      "\n",
      "[2020-10-13 16:26:19] Features: 44/20 -- score: 0.6178641988145992[Parallel(n_jobs=1)]: Using backend SequentialBackend with 1 concurrent workers.\n",
      "[Parallel(n_jobs=1)]: Done   1 out of   1 | elapsed:    0.7s remaining:    0.0s\n",
      "[Parallel(n_jobs=1)]: Done  44 out of  44 | elapsed:   35.4s finished\n",
      "\n",
      "[2020-10-13 16:26:55] Features: 43/20 -- score: 0.6178641988145992[Parallel(n_jobs=1)]: Using backend SequentialBackend with 1 concurrent workers.\n",
      "[Parallel(n_jobs=1)]: Done   1 out of   1 | elapsed:    0.7s remaining:    0.0s\n",
      "[Parallel(n_jobs=1)]: Done  43 out of  43 | elapsed:   34.2s finished\n",
      "\n",
      "[2020-10-13 16:27:29] Features: 42/20 -- score: 0.6178641988145992[Parallel(n_jobs=1)]: Using backend SequentialBackend with 1 concurrent workers.\n",
      "[Parallel(n_jobs=1)]: Done   1 out of   1 | elapsed:    0.7s remaining:    0.0s\n",
      "[Parallel(n_jobs=1)]: Done  42 out of  42 | elapsed:   36.0s finished\n",
      "\n",
      "[2020-10-13 16:28:05] Features: 41/20 -- score: 0.6178641988145992[Parallel(n_jobs=1)]: Using backend SequentialBackend with 1 concurrent workers.\n",
      "[Parallel(n_jobs=1)]: Done   1 out of   1 | elapsed:    0.7s remaining:    0.0s\n",
      "[Parallel(n_jobs=1)]: Done  41 out of  41 | elapsed:   31.5s finished\n",
      "\n",
      "[2020-10-13 16:28:37] Features: 40/20 -- score: 0.6178641988145992[Parallel(n_jobs=1)]: Using backend SequentialBackend with 1 concurrent workers.\n",
      "[Parallel(n_jobs=1)]: Done   1 out of   1 | elapsed:    0.7s remaining:    0.0s\n",
      "[Parallel(n_jobs=1)]: Done  40 out of  40 | elapsed:   32.7s finished\n",
      "\n",
      "[2020-10-13 16:29:09] Features: 39/20 -- score: 0.6178641988145992[Parallel(n_jobs=1)]: Using backend SequentialBackend with 1 concurrent workers.\n",
      "[Parallel(n_jobs=1)]: Done   1 out of   1 | elapsed:    0.7s remaining:    0.0s\n",
      "[Parallel(n_jobs=1)]: Done  39 out of  39 | elapsed:   32.4s finished\n",
      "\n",
      "[2020-10-13 16:29:42] Features: 38/20 -- score: 0.6178641988145992[Parallel(n_jobs=1)]: Using backend SequentialBackend with 1 concurrent workers.\n",
      "[Parallel(n_jobs=1)]: Done   1 out of   1 | elapsed:    0.7s remaining:    0.0s\n",
      "[Parallel(n_jobs=1)]: Done  38 out of  38 | elapsed:   28.4s finished\n",
      "\n",
      "[2020-10-13 16:30:10] Features: 37/20 -- score: 0.6178641988145992[Parallel(n_jobs=1)]: Using backend SequentialBackend with 1 concurrent workers.\n",
      "[Parallel(n_jobs=1)]: Done   1 out of   1 | elapsed:    0.7s remaining:    0.0s\n",
      "[Parallel(n_jobs=1)]: Done  37 out of  37 | elapsed:   27.3s finished\n",
      "\n",
      "[2020-10-13 16:30:38] Features: 36/20 -- score: 0.6178641988145992[Parallel(n_jobs=1)]: Using backend SequentialBackend with 1 concurrent workers.\n",
      "[Parallel(n_jobs=1)]: Done   1 out of   1 | elapsed:    0.6s remaining:    0.0s\n",
      "[Parallel(n_jobs=1)]: Done  36 out of  36 | elapsed:   26.3s finished\n",
      "\n",
      "[2020-10-13 16:31:04] Features: 35/20 -- score: 0.6178641988145992[Parallel(n_jobs=1)]: Using backend SequentialBackend with 1 concurrent workers.\n",
      "[Parallel(n_jobs=1)]: Done   1 out of   1 | elapsed:    0.6s remaining:    0.0s\n",
      "[Parallel(n_jobs=1)]: Done  35 out of  35 | elapsed:   25.0s finished\n",
      "\n",
      "[2020-10-13 16:31:29] Features: 34/20 -- score: 0.6178641988145992[Parallel(n_jobs=1)]: Using backend SequentialBackend with 1 concurrent workers.\n"
     ]
    },
    {
     "name": "stderr",
     "output_type": "stream",
     "text": [
      "[Parallel(n_jobs=1)]: Done   1 out of   1 | elapsed:    0.6s remaining:    0.0s\n",
      "[Parallel(n_jobs=1)]: Done  34 out of  34 | elapsed:   24.2s finished\n",
      "\n",
      "[2020-10-13 16:31:54] Features: 33/20 -- score: 0.6178641988145992[Parallel(n_jobs=1)]: Using backend SequentialBackend with 1 concurrent workers.\n",
      "[Parallel(n_jobs=1)]: Done   1 out of   1 | elapsed:    0.6s remaining:    0.0s\n",
      "[Parallel(n_jobs=1)]: Done  33 out of  33 | elapsed:   24.3s finished\n",
      "\n",
      "[2020-10-13 16:32:18] Features: 32/20 -- score: 0.6178641988145992[Parallel(n_jobs=1)]: Using backend SequentialBackend with 1 concurrent workers.\n",
      "[Parallel(n_jobs=1)]: Done   1 out of   1 | elapsed:    0.6s remaining:    0.0s\n",
      "[Parallel(n_jobs=1)]: Done  32 out of  32 | elapsed:   22.9s finished\n",
      "\n",
      "[2020-10-13 16:32:41] Features: 31/20 -- score: 0.617968181345534[Parallel(n_jobs=1)]: Using backend SequentialBackend with 1 concurrent workers.\n",
      "[Parallel(n_jobs=1)]: Done   1 out of   1 | elapsed:    0.5s remaining:    0.0s\n",
      "[Parallel(n_jobs=1)]: Done  31 out of  31 | elapsed:   21.6s finished\n",
      "\n",
      "[2020-10-13 16:33:03] Features: 30/20 -- score: 0.617968181345534[Parallel(n_jobs=1)]: Using backend SequentialBackend with 1 concurrent workers.\n",
      "[Parallel(n_jobs=1)]: Done   1 out of   1 | elapsed:    0.5s remaining:    0.0s\n",
      "[Parallel(n_jobs=1)]: Done  30 out of  30 | elapsed:   21.9s finished\n",
      "\n",
      "[2020-10-13 16:33:25] Features: 29/20 -- score: 0.617968181345534[Parallel(n_jobs=1)]: Using backend SequentialBackend with 1 concurrent workers.\n",
      "[Parallel(n_jobs=1)]: Done   1 out of   1 | elapsed:    0.6s remaining:    0.0s\n",
      "[Parallel(n_jobs=1)]: Done  29 out of  29 | elapsed:   19.4s finished\n",
      "\n",
      "[2020-10-13 16:33:44] Features: 28/20 -- score: 0.617968181345534[Parallel(n_jobs=1)]: Using backend SequentialBackend with 1 concurrent workers.\n",
      "[Parallel(n_jobs=1)]: Done   1 out of   1 | elapsed:    0.5s remaining:    0.0s\n",
      "[Parallel(n_jobs=1)]: Done  28 out of  28 | elapsed:   18.7s finished\n",
      "\n",
      "[2020-10-13 16:34:03] Features: 27/20 -- score: 0.617968181345534[Parallel(n_jobs=1)]: Using backend SequentialBackend with 1 concurrent workers.\n",
      "[Parallel(n_jobs=1)]: Done   1 out of   1 | elapsed:    0.6s remaining:    0.0s\n",
      "[Parallel(n_jobs=1)]: Done  27 out of  27 | elapsed:   19.1s finished\n",
      "\n",
      "[2020-10-13 16:34:22] Features: 26/20 -- score: 0.6180721638764688[Parallel(n_jobs=1)]: Using backend SequentialBackend with 1 concurrent workers.\n",
      "[Parallel(n_jobs=1)]: Done   1 out of   1 | elapsed:    0.6s remaining:    0.0s\n",
      "[Parallel(n_jobs=1)]: Done  26 out of  26 | elapsed:   16.6s finished\n",
      "\n",
      "[2020-10-13 16:34:39] Features: 25/20 -- score: 0.6180721638764688[Parallel(n_jobs=1)]: Using backend SequentialBackend with 1 concurrent workers.\n",
      "[Parallel(n_jobs=1)]: Done   1 out of   1 | elapsed:    0.5s remaining:    0.0s\n",
      "[Parallel(n_jobs=1)]: Done  25 out of  25 | elapsed:   15.8s finished\n",
      "\n",
      "[2020-10-13 16:34:55] Features: 24/20 -- score: 0.6180721638764688[Parallel(n_jobs=1)]: Using backend SequentialBackend with 1 concurrent workers.\n",
      "[Parallel(n_jobs=1)]: Done   1 out of   1 | elapsed:    0.5s remaining:    0.0s\n",
      "[Parallel(n_jobs=1)]: Done  24 out of  24 | elapsed:   14.6s finished\n",
      "\n",
      "[2020-10-13 16:35:10] Features: 23/20 -- score: 0.6180721638764688[Parallel(n_jobs=1)]: Using backend SequentialBackend with 1 concurrent workers.\n",
      "[Parallel(n_jobs=1)]: Done   1 out of   1 | elapsed:    0.5s remaining:    0.0s\n",
      "[Parallel(n_jobs=1)]: Done  23 out of  23 | elapsed:   13.9s finished\n",
      "\n",
      "[2020-10-13 16:35:24] Features: 22/20 -- score: 0.6180721638764688[Parallel(n_jobs=1)]: Using backend SequentialBackend with 1 concurrent workers.\n",
      "[Parallel(n_jobs=1)]: Done   1 out of   1 | elapsed:    0.5s remaining:    0.0s\n",
      "[Parallel(n_jobs=1)]: Done  22 out of  22 | elapsed:   13.4s finished\n",
      "\n",
      "[2020-10-13 16:35:37] Features: 21/20 -- score: 0.6180721638764688[Parallel(n_jobs=1)]: Using backend SequentialBackend with 1 concurrent workers.\n",
      "[Parallel(n_jobs=1)]: Done   1 out of   1 | elapsed:    0.5s remaining:    0.0s\n",
      "[Parallel(n_jobs=1)]: Done  21 out of  21 | elapsed:   12.2s finished\n",
      "\n",
      "[2020-10-13 16:35:49] Features: 20/20 -- score: 0.6180721638764688"
     ]
    },
    {
     "data": {
      "text/plain": [
       "(0, 1, 2, 3, 4, 5, 7, 8, 9, 10, 11, 12, 13, 14, 15, 16, 17, 18, 22, 38)"
      ]
     },
     "execution_count": 17,
     "metadata": {},
     "output_type": "execute_result"
    }
   ],
   "source": [
    "sfs2 = SFS(knn, \n",
    "           k_features=20, \n",
    "           forward=False, \n",
    "           floating=False, \n",
    "           verbose=2,\n",
    "           scoring='accuracy',\n",
    "           cv=0)\n",
    "\n",
    "sfs21 = sfs2.fit(X_train.as_matrix(), y1_train.as_matrix())\n",
    "sfs21.k_feature_idx_"
   ]
  },
  {
   "cell_type": "code",
   "execution_count": 18,
   "metadata": {},
   "outputs": [
    {
     "name": "stdout",
     "output_type": "stream",
     "text": [
      "[1. 1. 1. 1. 1. 1. 0. 1. 1. 1. 1. 1. 1. 1. 1. 1. 1. 1. 1. 0. 0. 0. 1. 0.\n",
      " 0. 0. 0. 0. 0. 0. 0. 0. 0. 0. 0. 0. 0. 0. 1. 0. 0. 0. 0. 0. 0. 0. 0. 0.\n",
      " 0. 0. 0. 0. 0. 0. 0. 0. 0. 0. 0. 0. 0.]\n"
     ]
    },
    {
     "data": {
      "text/plain": [
       "<matplotlib.image.AxesImage at 0x183098f9b70>"
      ]
     },
     "execution_count": 18,
     "metadata": {},
     "output_type": "execute_result"
    },
    {
     "data": {
      "image/png": "[encoded data removed]",
      "text/plain": [
       "<Figure size 1152x144 with 1 Axes>"
      ]
     },
     "metadata": {
      "needs_background": "light"
     },
     "output_type": "display_data"
    }
   ],
   "source": [
    "vals1 = np.array(sfs21.k_feature_idx_)\n",
    "masked_feaures_sbs = np.zeros(61)\n",
    "for i in vals1:\n",
    "    masked_feaures_sbs[i]=1\n",
    "print(masked_feaures_sbs)\n",
    "plt.matshow(masked_feaures_sbs.reshape(1,-1), cmap='gray_r')"
   ]
  },
  {
   "cell_type": "code",
   "execution_count": 19,
   "metadata": {},
   "outputs": [
    {
     "name": "stdout",
     "output_type": "stream",
     "text": [
      "Total number of features selected via SBS : 20\n"
     ]
    }
   ],
   "source": [
    "print(\"Total number of features selected via SBS : \" + str((masked_feaures_sbs==True).sum()) )"
   ]
  },
  {
   "cell_type": "code",
   "execution_count": 20,
   "metadata": {},
   "outputs": [
    {
     "name": "stdout",
     "output_type": "stream",
     "text": [
      "[False False False  True False  True  True False False False False False\n",
      " False False False False False False False False False  True False False\n",
      " False  True  True  True False False False False False  True  True False\n",
      "  True False  True False False False False False False False False False\n",
      " False False False False False False False False False False False False\n",
      " False]\n"
     ]
    },
    {
     "data": {
      "text/plain": [
       "<matplotlib.image.AxesImage at 0x18337875438>"
      ]
     },
     "execution_count": 20,
     "metadata": {},
     "output_type": "execute_result"
    },
    {
     "data": {
      "image/png": "[encoded data removed]",
      "text/plain": [
       "<Figure size 1152x144 with 1 Axes>"
      ]
     },
     "metadata": {
      "needs_background": "light"
     },
     "output_type": "display_data"
    }
   ],
   "source": [
    "masked_features_intersect_1 = np.logical_and(masked_feaures_ftest,masked_feaures_sfs)\n",
    "print(masked_features_intersect_1)\n",
    "plt.matshow(masked_features_intersect_1.reshape(1,-1), cmap = 'gray_r')"
   ]
  },
  {
   "cell_type": "code",
   "execution_count": 21,
   "metadata": {},
   "outputs": [
    {
     "name": "stdout",
     "output_type": "stream",
     "text": [
      "[ True  True  True  True False  True False False False  True False False\n",
      "  True False  True  True False False False False False False False False\n",
      " False False False False False False False False False False False False\n",
      " False False  True False False False False False False False False False\n",
      " False False False False False False False False False False False False\n",
      " False]\n"
     ]
    },
    {
     "data": {
      "text/plain": [
       "<matplotlib.image.AxesImage at 0x183378ba080>"
      ]
     },
     "execution_count": 21,
     "metadata": {},
     "output_type": "execute_result"
    },
    {
     "data": {
      "image/png": "[encoded data removed]",
      "text/plain": [
       "<Figure size 1152x144 with 1 Axes>"
      ]
     },
     "metadata": {
      "needs_background": "light"
     },
     "output_type": "display_data"
    }
   ],
   "source": [
    "masked_features_intersect_2 = np.logical_and(masked_feaures_ftest,masked_feaures_sbs)\n",
    "print(masked_features_intersect_2)\n",
    "plt.matshow(masked_features_intersect_2.reshape(1,-1), cmap = 'gray_r')"
   ]
  },
  {
   "cell_type": "code",
   "execution_count": 22,
   "metadata": {},
   "outputs": [
    {
     "name": "stdout",
     "output_type": "stream",
     "text": [
      "Total number of features selected via SBS : 11\n"
     ]
    }
   ],
   "source": [
    "print(\"Total number of features selected via SBS : \" + str((masked_features_intersect_1==True).sum()) )"
   ]
  },
  {
   "cell_type": "code",
   "execution_count": 23,
   "metadata": {},
   "outputs": [
    {
     "name": "stdout",
     "output_type": "stream",
     "text": [
      "Total number of features selected via SBS : 10\n"
     ]
    }
   ],
   "source": [
    "print(\"Total number of features selected via SBS : \" + str((masked_features_intersect_2==True).sum()) )"
   ]
  },
  {
   "cell_type": "code",
   "execution_count": 24,
   "metadata": {},
   "outputs": [
    {
     "name": "stdout",
     "output_type": "stream",
     "text": [
      "[ True  True  True  True False  True  True False False  True False False\n",
      "  True False  True  True False False False False False  True False False\n",
      " False  True  True  True False False False False False  True  True False\n",
      "  True False  True False False False False False False False False False\n",
      " False False False False False False False False False False False False\n",
      " False]\n"
     ]
    },
    {
     "data": {
      "text/plain": [
       "<matplotlib.image.AxesImage at 0x183378eff28>"
      ]
     },
     "execution_count": 24,
     "metadata": {},
     "output_type": "execute_result"
    },
    {
     "data": {
      "image/png": "[encoded data removed]",
      "text/plain": [
       "<Figure size 1152x144 with 1 Axes>"
      ]
     },
     "metadata": {
      "needs_background": "light"
     },
     "output_type": "display_data"
    }
   ],
   "source": [
    "masked_features_final = np.logical_or(masked_features_intersect_1,masked_features_intersect_2)\n",
    "print(masked_features_final)\n",
    "plt.matshow(masked_features_final.reshape(1,-1), cmap = 'gray_r')"
   ]
  },
  {
   "cell_type": "code",
   "execution_count": 25,
   "metadata": {},
   "outputs": [
    {
     "name": "stdout",
     "output_type": "stream",
     "text": [
      "Total number of features selected finally : 18\n"
     ]
    }
   ],
   "source": [
    "print(\"Total number of features selected finally : \" + str((masked_features_final==True).sum()) )"
   ]
  },
  {
   "cell_type": "markdown",
   "metadata": {},
   "source": [
    "__Filter data ot have only new features__"
   ]
  },
  {
   "cell_type": "code",
   "execution_count": 26,
   "metadata": {},
   "outputs": [
    {
     "data": {
      "text/html": [
       "<div>\n",
       "<style scoped>\n",
       "    .dataframe tbody tr th:only-of-type {\n",
       "        vertical-align: middle;\n",
       "    }\n",
       "\n",
       "    .dataframe tbody tr th {\n",
       "        vertical-align: top;\n",
       "    }\n",
       "\n",
       "    .dataframe thead th {\n",
       "        text-align: right;\n",
       "    }\n",
       "</style>\n",
       "<table border=\"1\" class=\"dataframe\">\n",
       "  <thead>\n",
       "    <tr style=\"text-align: right;\">\n",
       "      <th></th>\n",
       "      <th>Location_Easting_OSGR</th>\n",
       "      <th>Location_Northing_OSGR</th>\n",
       "      <th>Longitude</th>\n",
       "      <th>Latitude</th>\n",
       "      <th>Accident_Severity</th>\n",
       "      <th>Number_of_Vehicles</th>\n",
       "      <th>1st_Road_Class</th>\n",
       "      <th>Speed_limit</th>\n",
       "      <th>Junction_Control</th>\n",
       "      <th>2nd_Road_Class</th>\n",
       "      <th>Road_Surface_Conditions</th>\n",
       "      <th>Did_Police_Officer_Attend_Scene_of_Accident</th>\n",
       "      <th>Vehicle_Reference_x</th>\n",
       "      <th>Casualty_Reference</th>\n",
       "      <th>Pedestrian_Location</th>\n",
       "      <th>Pedestrian_Movement</th>\n",
       "      <th>Bus_or_Coach_Passenger</th>\n",
       "      <th>Casualty_Type</th>\n",
       "    </tr>\n",
       "  </thead>\n",
       "  <tbody>\n",
       "    <tr>\n",
       "      <th>0</th>\n",
       "      <td>525680.0</td>\n",
       "      <td>178240.0</td>\n",
       "      <td>-0.191170</td>\n",
       "      <td>51.489096</td>\n",
       "      <td>2</td>\n",
       "      <td>1</td>\n",
       "      <td>3</td>\n",
       "      <td>30</td>\n",
       "      <td>-1</td>\n",
       "      <td>-1</td>\n",
       "      <td>2</td>\n",
       "      <td>1</td>\n",
       "      <td>1</td>\n",
       "      <td>1</td>\n",
       "      <td>1</td>\n",
       "      <td>1</td>\n",
       "      <td>0</td>\n",
       "      <td>0</td>\n",
       "    </tr>\n",
       "    <tr>\n",
       "      <th>1</th>\n",
       "      <td>524170.0</td>\n",
       "      <td>181650.0</td>\n",
       "      <td>-0.211708</td>\n",
       "      <td>51.520075</td>\n",
       "      <td>3</td>\n",
       "      <td>1</td>\n",
       "      <td>4</td>\n",
       "      <td>30</td>\n",
       "      <td>2</td>\n",
       "      <td>5</td>\n",
       "      <td>1</td>\n",
       "      <td>1</td>\n",
       "      <td>1</td>\n",
       "      <td>1</td>\n",
       "      <td>0</td>\n",
       "      <td>0</td>\n",
       "      <td>4</td>\n",
       "      <td>11</td>\n",
       "    </tr>\n",
       "    <tr>\n",
       "      <th>2</th>\n",
       "      <td>524520.0</td>\n",
       "      <td>182240.0</td>\n",
       "      <td>-0.206458</td>\n",
       "      <td>51.525301</td>\n",
       "      <td>3</td>\n",
       "      <td>2</td>\n",
       "      <td>5</td>\n",
       "      <td>30</td>\n",
       "      <td>-1</td>\n",
       "      <td>-1</td>\n",
       "      <td>1</td>\n",
       "      <td>1</td>\n",
       "      <td>2</td>\n",
       "      <td>1</td>\n",
       "      <td>0</td>\n",
       "      <td>0</td>\n",
       "      <td>0</td>\n",
       "      <td>9</td>\n",
       "    </tr>\n",
       "    <tr>\n",
       "      <th>3</th>\n",
       "      <td>524520.0</td>\n",
       "      <td>182240.0</td>\n",
       "      <td>-0.206458</td>\n",
       "      <td>51.525301</td>\n",
       "      <td>3</td>\n",
       "      <td>2</td>\n",
       "      <td>5</td>\n",
       "      <td>30</td>\n",
       "      <td>-1</td>\n",
       "      <td>-1</td>\n",
       "      <td>1</td>\n",
       "      <td>1</td>\n",
       "      <td>2</td>\n",
       "      <td>1</td>\n",
       "      <td>0</td>\n",
       "      <td>0</td>\n",
       "      <td>0</td>\n",
       "      <td>9</td>\n",
       "    </tr>\n",
       "    <tr>\n",
       "      <th>4</th>\n",
       "      <td>526900.0</td>\n",
       "      <td>177530.0</td>\n",
       "      <td>-0.173862</td>\n",
       "      <td>51.482442</td>\n",
       "      <td>3</td>\n",
       "      <td>1</td>\n",
       "      <td>3</td>\n",
       "      <td>30</td>\n",
       "      <td>-1</td>\n",
       "      <td>-1</td>\n",
       "      <td>1</td>\n",
       "      <td>1</td>\n",
       "      <td>1</td>\n",
       "      <td>1</td>\n",
       "      <td>5</td>\n",
       "      <td>2</td>\n",
       "      <td>0</td>\n",
       "      <td>0</td>\n",
       "    </tr>\n",
       "  </tbody>\n",
       "</table>\n",
       "</div>"
      ],
      "text/plain": [
       "   Location_Easting_OSGR  Location_Northing_OSGR  Longitude   Latitude  \\\n",
       "0               525680.0                178240.0  -0.191170  51.489096   \n",
       "1               524170.0                181650.0  -0.211708  51.520075   \n",
       "2               524520.0                182240.0  -0.206458  51.525301   \n",
       "3               524520.0                182240.0  -0.206458  51.525301   \n",
       "4               526900.0                177530.0  -0.173862  51.482442   \n",
       "\n",
       "   Accident_Severity  Number_of_Vehicles  1st_Road_Class  Speed_limit  \\\n",
       "0                  2                   1               3           30   \n",
       "1                  3                   1               4           30   \n",
       "2                  3                   2               5           30   \n",
       "3                  3                   2               5           30   \n",
       "4                  3                   1               3           30   \n",
       "\n",
       "   Junction_Control  2nd_Road_Class  Road_Surface_Conditions  \\\n",
       "0                -1              -1                        2   \n",
       "1                 2               5                        1   \n",
       "2                -1              -1                        1   \n",
       "3                -1              -1                        1   \n",
       "4                -1              -1                        1   \n",
       "\n",
       "   Did_Police_Officer_Attend_Scene_of_Accident  Vehicle_Reference_x  \\\n",
       "0                                            1                    1   \n",
       "1                                            1                    1   \n",
       "2                                            1                    2   \n",
       "3                                            1                    2   \n",
       "4                                            1                    1   \n",
       "\n",
       "   Casualty_Reference  Pedestrian_Location  Pedestrian_Movement  \\\n",
       "0                   1                    1                    1   \n",
       "1                   1                    0                    0   \n",
       "2                   1                    0                    0   \n",
       "3                   1                    0                    0   \n",
       "4                   1                    5                    2   \n",
       "\n",
       "   Bus_or_Coach_Passenger  Casualty_Type  \n",
       "0                       0              0  \n",
       "1                       4             11  \n",
       "2                       0              9  \n",
       "3                       0              9  \n",
       "4                       0              0  "
      ]
     },
     "execution_count": 26,
     "metadata": {},
     "output_type": "execute_result"
    }
   ],
   "source": [
    "# The list of your K best features\n",
    "new_features = [] \n",
    "\n",
    "for bool, feature in zip(masked_features_final, X.columns.tolist()):\n",
    "    if bool:\n",
    "        new_features.append(feature)\n",
    "\n",
    "X_new= pd.DataFrame(X, columns=new_features)\n",
    "X_new.columns = X_new.columns.values.tolist()\n",
    "X_new = X[X_new.columns.values.tolist()]\n",
    "X_new.head()"
   ]
  },
  {
   "cell_type": "code",
   "execution_count": 27,
   "metadata": {},
   "outputs": [
    {
     "name": "stdout",
     "output_type": "stream",
     "text": [
      "(961770, 18)\n"
     ]
    }
   ],
   "source": [
    "print(X_new.shape)"
   ]
  },
  {
   "cell_type": "markdown",
   "metadata": {},
   "source": [
    "__Decision Tree Classifier__"
   ]
  },
  {
   "cell_type": "code",
   "execution_count": 28,
   "metadata": {},
   "outputs": [
    {
     "name": "stdout",
     "output_type": "stream",
     "text": [
      "(865593, 18)\n",
      "(96177, 18)\n"
     ]
    }
   ],
   "source": [
    "from sklearn.model_selection import train_test_split\n",
    "X_train_f, X_test_f, y1_train_f, y1_test_f = train_test_split(X_new, y1, test_size=0.10, random_state=45)\n",
    "print(X_train_f.shape)\n",
    "print(X_test_f.shape)"
   ]
  },
  {
   "cell_type": "code",
   "execution_count": 29,
   "metadata": {},
   "outputs": [
    {
     "data": {
      "text/plain": [
       "array([0.91267329, 0.91259242, 0.91281192, 0.91344632, 0.9144052 ,\n",
       "       0.91425502, 0.91282247, 0.91505216, 0.91252209, 0.91333079])"
      ]
     },
     "execution_count": 29,
     "metadata": {},
     "output_type": "execute_result"
    }
   ],
   "source": [
    "from sklearn.model_selection import cross_val_score\n",
    "from sklearn.tree import DecisionTreeClassifier\n",
    "clf = DecisionTreeClassifier(random_state=0)\n",
    "clf.fit(X_train_f, y1_train_f)\n",
    "cross_val_score(clf, X_train_f, y1_train_f, cv=10)"
   ]
  },
  {
   "cell_type": "code",
   "execution_count": 30,
   "metadata": {},
   "outputs": [],
   "source": [
    "acc_train = clf.score(X_train_f,y1_train_f)\n",
    "acc_test = clf.score(X_test_f,y1_test_f)"
   ]
  },
  {
   "cell_type": "code",
   "execution_count": 31,
   "metadata": {},
   "outputs": [
    {
     "name": "stdout",
     "output_type": "stream",
     "text": [
      "Train accuracy of DT classifier - 99.68%\n",
      "Test accuracy of DT classifier - 93.71%\n"
     ]
    }
   ],
   "source": [
    "print(\"Train accuracy of DT classifier - {:.2f}%\".format(acc_train*100))\n",
    "print(\"Test accuracy of DT classifier - {:.2f}%\".format(acc_test*100))"
   ]
  },
  {
   "cell_type": "markdown",
   "metadata": {},
   "source": [
    "__Ranking features__"
   ]
  },
  {
   "cell_type": "code",
   "execution_count": 32,
   "metadata": {},
   "outputs": [
    {
     "name": "stdout",
     "output_type": "stream",
     "text": [
      "Feature ranking:\n",
      "1. feature 13 (0.292934)\n",
      "2. feature 3 (0.124774)\n",
      "3. feature 2 (0.122296)\n",
      "4. feature 1 (0.119415)\n",
      "5. feature 0 (0.116203)\n",
      "6. feature 17 (0.049450)\n",
      "7. feature 6 (0.028832)\n",
      "8. feature 7 (0.024673)\n",
      "9. feature 10 (0.024567)\n",
      "10. feature 9 (0.022673)\n",
      "11. feature 5 (0.021754)\n",
      "12. feature 8 (0.017957)\n",
      "13. feature 12 (0.013482)\n",
      "14. feature 4 (0.010644)\n",
      "15. feature 11 (0.006172)\n",
      "16. feature 16 (0.002762)\n",
      "17. feature 15 (0.000740)\n",
      "18. feature 14 (0.000671)\n"
     ]
    },
    {
     "data": {
      "image/png": "[encoded data removed]",
      "text/plain": [
       "<Figure size 720x360 with 1 Axes>"
      ]
     },
     "metadata": {
      "needs_background": "light"
     },
     "output_type": "display_data"
    }
   ],
   "source": [
    "importances = clf.feature_importances_\n",
    "std = np.std([clf.feature_importances_],\n",
    "             axis=0)\n",
    "indices = np.argsort(importances)[::-1]\n",
    "\n",
    "# Print the feature ranking\n",
    "print(\"Feature ranking:\")\n",
    "\n",
    "for f in range(X_train_f.shape[1]):\n",
    "    print(\"%d. feature %d (%f)\" % (f + 1, indices[f], importances[indices[f]]))\n",
    "\n",
    "# Plot the feature importances of the forest\n",
    "plt.figure(figsize=(10,5))\n",
    "plt.title(\"Ranking: Predictor Variables\")\n",
    "plt.bar(range(X_train_f.shape[1]), importances[indices],\n",
    "       color=\"black\", yerr=std[indices], align=\"center\")\n",
    "plt.xticks(range(X_train_f.shape[1]), X_train_f.columns[indices], rotation='vertical')\n",
    "plt.xlim([-1, X_train_f.shape[1]])\n",
    "plt.show()"
   ]
  },
  {
   "cell_type": "markdown",
   "metadata": {},
   "source": [
    "__Nave Bayes Classifier__"
   ]
  },
  {
   "cell_type": "code",
   "execution_count": 33,
   "metadata": {},
   "outputs": [
    {
     "data": {
      "text/plain": [
       "GaussianNB()"
      ]
     },
     "execution_count": 33,
     "metadata": {},
     "output_type": "execute_result"
    }
   ],
   "source": [
    "from sklearn.naive_bayes import GaussianNB\n",
    "clf2 = GaussianNB()\n",
    "clf2.fit(X_train_f, y1_train_f)"
   ]
  },
  {
   "cell_type": "code",
   "execution_count": 34,
   "metadata": {},
   "outputs": [],
   "source": [
    "acc_train = clf2.score(X_train_f,y1_train_f)\n",
    "acc_test = clf2.score(X_test_f,y1_test_f)"
   ]
  },
  {
   "cell_type": "code",
   "execution_count": 35,
   "metadata": {},
   "outputs": [
    {
     "name": "stdout",
     "output_type": "stream",
     "text": [
      "Train accuracy of NB classifier - 50.05%\n",
      "Test accuracy of NB classifier - 50.22%\n"
     ]
    }
   ],
   "source": [
    "print(\"Train accuracy of NB classifier - {:.2f}%\".format(acc_train*100))\n",
    "print(\"Test accuracy of NB classifier - {:.2f}%\".format(acc_test*100))"
   ]
  },
  {
   "cell_type": "markdown",
   "metadata": {},
   "source": [
    "__KNN Classifier (k=2)__"
   ]
  },
  {
   "cell_type": "code",
   "execution_count": 36,
   "metadata": {},
   "outputs": [
    {
     "data": {
      "text/plain": [
       "KNeighborsClassifier(n_neighbors=2)"
      ]
     },
     "execution_count": 36,
     "metadata": {},
     "output_type": "execute_result"
    }
   ],
   "source": [
    "from sklearn.neighbors import KNeighborsClassifier\n",
    "clf3 = KNeighborsClassifier(n_neighbors=2)\n",
    "clf3.fit(X_train_f, y1_train_f)"
   ]
  },
  {
   "cell_type": "code",
   "execution_count": 37,
   "metadata": {},
   "outputs": [],
   "source": [
    "acc_train = clf3.score(X_train_f,y1_train_f)\n",
    "acc_test = clf3.score(X_test_f,y1_test_f)"
   ]
  },
  {
   "cell_type": "code",
   "execution_count": 38,
   "metadata": {},
   "outputs": [
    {
     "name": "stdout",
     "output_type": "stream",
     "text": [
      "Train accuracy of KNN classifier (k=2)- 99.31%\n",
      "Test accuracy of KNN classifier (k=2)- 93.52%\n"
     ]
    }
   ],
   "source": [
    "print(\"Train accuracy of KNN classifier (k=2)- {:.2f}%\".format(acc_train*100))\n",
    "print(\"Test accuracy of KNN classifier (k=2)- {:.2f}%\".format(acc_test*100))"
   ]
  },
  {
   "cell_type": "markdown",
   "metadata": {},
   "source": [
    "__KNN Classifier (k=5)__"
   ]
  },
  {
   "cell_type": "code",
   "execution_count": 39,
   "metadata": {},
   "outputs": [
    {
     "data": {
      "text/plain": [
       "KNeighborsClassifier()"
      ]
     },
     "execution_count": 39,
     "metadata": {},
     "output_type": "execute_result"
    }
   ],
   "source": [
    "from sklearn.neighbors import KNeighborsClassifier\n",
    "clf3b = KNeighborsClassifier(n_neighbors=5)\n",
    "clf3b.fit(X_train_f, y1_train_f)"
   ]
  },
  {
   "cell_type": "code",
   "execution_count": 40,
   "metadata": {},
   "outputs": [],
   "source": [
    "acc_train = clf3b.score(X_train_f,y1_train_f)\n",
    "acc_test = clf3b.score(X_test_f,y1_test_f)"
   ]
  },
  {
   "cell_type": "code",
   "execution_count": 41,
   "metadata": {},
   "outputs": [
    {
     "name": "stdout",
     "output_type": "stream",
     "text": [
      "Train accuracy of KNN classifier (k=5)- 88.08%\n",
      "Test accuracy of KNN classifier (k=5)- 80.09%\n"
     ]
    }
   ],
   "source": [
    "print(\"Train accuracy of KNN classifier (k=5)- {:.2f}%\".format(acc_train*100))\n",
    "print(\"Test accuracy of KNN classifier (k=5)- {:.2f}%\".format(acc_test*100))"
   ]
  },
  {
   "cell_type": "markdown",
   "metadata": {},
   "source": [
    "__KNN Classifier (k=10)__"
   ]
  },
  {
   "cell_type": "code",
   "execution_count": 42,
   "metadata": {},
   "outputs": [
    {
     "data": {
      "text/plain": [
       "KNeighborsClassifier(n_neighbors=10)"
      ]
     },
     "execution_count": 42,
     "metadata": {},
     "output_type": "execute_result"
    }
   ],
   "source": [
    "from sklearn.neighbors import KNeighborsClassifier\n",
    "clf3c = KNeighborsClassifier(n_neighbors=10)\n",
    "clf3c.fit(X_train_f, y1_train_f)"
   ]
  },
  {
   "cell_type": "code",
   "execution_count": 43,
   "metadata": {},
   "outputs": [],
   "source": [
    "acc_train = clf3c.score(X_train_f,y1_train_f)\n",
    "acc_test = clf3c.score(X_test_f,y1_test_f)"
   ]
  },
  {
   "cell_type": "code",
   "execution_count": 44,
   "metadata": {},
   "outputs": [
    {
     "name": "stdout",
     "output_type": "stream",
     "text": [
      "Train accuracy of KNN classifier (k=10)- 76.28%\n",
      "Test accuracy of KNN classifier (k=10)- 67.78%\n"
     ]
    }
   ],
   "source": [
    "print(\"Train accuracy of KNN classifier (k=10)- {:.2f}%\".format(acc_train*100))\n",
    "print(\"Test accuracy of KNN classifier (k=10)- {:.2f}%\".format(acc_test*100))"
   ]
  },
  {
   "cell_type": "markdown",
   "metadata": {},
   "source": [
    "__Obtain Decision Rules__"
   ]
  },
  {
   "cell_type": "code",
   "execution_count": 175,
   "metadata": {},
   "outputs": [],
   "source": [
    "def print_list(indent, l):\n",
    "    strlist = \"\"\n",
    "    for x in l:\n",
    "        strlist = strlist + (\"{}Class {} with conf {:.2f}%\\n\".format(indent, x[0],x[1]))\n",
    "    return strlist"
   ]
  },
  {
   "cell_type": "code",
   "execution_count": 182,
   "metadata": {},
   "outputs": [],
   "source": [
    "from sklearn.tree import _tree\n",
    "from collections import Counter\n",
    "\n",
    "# max_depth_rule var used to define the number of variables in decision rules obtained\n",
    "def decision_rules(tree, feature_names, max_depth_rule = 3):\n",
    "    tree_ = tree.tree_\n",
    "    feature_name = [\n",
    "        feature_names[i] if i != _tree.TREE_UNDEFINED else \"undefined!\"\n",
    "        for i in tree_.feature\n",
    "    ]\n",
    "\n",
    "    def recurse(node, depth, classes_for_rule, max_depth_rule):\n",
    "        if(classes_for_rule == None or depth==max_depth_rule+1):\n",
    "            classes_for_rule = []\n",
    "        indent = \"  \" * depth\n",
    "        if tree_.feature[node] != _tree.TREE_UNDEFINED:\n",
    "            name = feature_name[node]\n",
    "            threshold = tree_.threshold[node]\n",
    "            if(depth<=max_depth_rule):\n",
    "                print(\"{}if {} <= {}:\".format(indent, name, threshold))\n",
    "            recurse(tree_.children_left[node], depth + 1, classes_for_rule, max_depth_rule)\n",
    "            if(depth<=max_depth_rule):\n",
    "                print(\"{}else:  # if {} > {}\".format(indent, name, threshold))\n",
    "            recurse(tree_.children_right[node], depth + 1, classes_for_rule, max_depth_rule)\n",
    "        else:\n",
    "            ll = tree_.value[node][0]\n",
    "            classes_for_rule.append(ll.argmax())\n",
    "        if(depth==max_depth_rule+1):\n",
    "            c = Counter(classes_for_rule)\n",
    "            x = [(i, c[i] / len(classes_for_rule) * 100.0) for i,count in c.most_common()]\n",
    "            print(\"{}\".format(print_list(indent, x)))\n",
    "    \n",
    "    #start recursion at base node\n",
    "    classes_for_rule = []\n",
    "    recurse(0, 1, classes_for_rule, max_depth_rule)"
   ]
  },
  {
   "cell_type": "code",
   "execution_count": 184,
   "metadata": {},
   "outputs": [
    {
     "name": "stdout",
     "output_type": "stream",
     "text": [
      "  if Casualty_Reference <= 1.5:\n",
      "    if Casualty_Type <= 6.5:\n",
      "      if Number_of_Vehicles <= 2.5:\n",
      "        Class 0 with conf 54.31%\n",
      "        Class 1 with conf 40.47%\n",
      "        Class 2 with conf 3.99%\n",
      "        Class 3 with conf 0.84%\n",
      "        Class 4 with conf 0.28%\n",
      "        Class 5 with conf 0.09%\n",
      "        Class 6 with conf 0.02%\n",
      "\n",
      "      else:  # if Number_of_Vehicles > 2.5\n",
      "        Class 0 with conf 48.30%\n",
      "        Class 1 with conf 37.58%\n",
      "        Class 2 with conf 9.82%\n",
      "        Class 3 with conf 2.30%\n",
      "        Class 4 with conf 1.50%\n",
      "        Class 5 with conf 0.20%\n",
      "        Class 7 with conf 0.10%\n",
      "        Class 9 with conf 0.10%\n",
      "        Class 6 with conf 0.10%\n",
      "\n",
      "    else:  # if Casualty_Type > 6.5\n",
      "      if Accident_Severity <= 2.5:\n",
      "        Class 0 with conf 29.98%\n",
      "        Class 1 with conf 29.55%\n",
      "        Class 2 with conf 18.33%\n",
      "        Class 3 with conf 10.98%\n",
      "        Class 4 with conf 5.94%\n",
      "        Class 5 with conf 2.88%\n",
      "        Class 6 with conf 1.04%\n",
      "        Class 7 with conf 0.51%\n",
      "        Class 9 with conf 0.48%\n",
      "        Class 8 with conf 0.30%\n",
      "\n",
      "      else:  # if Accident_Severity > 2.5\n",
      "        Class 0 with conf 43.20%\n",
      "        Class 1 with conf 34.79%\n",
      "        Class 2 with conf 13.67%\n",
      "        Class 3 with conf 5.26%\n",
      "        Class 4 with conf 1.97%\n",
      "        Class 5 with conf 0.69%\n",
      "        Class 6 with conf 0.20%\n",
      "        Class 7 with conf 0.10%\n",
      "        Class 9 with conf 0.07%\n",
      "        Class 8 with conf 0.05%\n",
      "\n",
      "  else:  # if Casualty_Reference > 1.5\n",
      "    if Casualty_Reference <= 2.5:\n",
      "      if Number_of_Vehicles <= 2.5:\n",
      "        Class 1 with conf 43.49%\n",
      "        Class 2 with conf 31.70%\n",
      "        Class 3 with conf 14.55%\n",
      "        Class 4 with conf 5.87%\n",
      "        Class 5 with conf 2.12%\n",
      "        Class 0 with conf 1.05%\n",
      "        Class 6 with conf 0.58%\n",
      "        Class 7 with conf 0.30%\n",
      "        Class 9 with conf 0.22%\n",
      "        Class 8 with conf 0.13%\n",
      "\n",
      "      else:  # if Number_of_Vehicles > 2.5\n",
      "        Class 1 with conf 37.20%\n",
      "        Class 2 with conf 29.76%\n",
      "        Class 3 with conf 16.02%\n",
      "        Class 4 with conf 8.89%\n",
      "        Class 5 with conf 4.12%\n",
      "        Class 6 with conf 1.69%\n",
      "        Class 7 with conf 0.71%\n",
      "        Class 0 with conf 0.60%\n",
      "        Class 9 with conf 0.55%\n",
      "        Class 8 with conf 0.46%\n",
      "\n",
      "    else:  # if Casualty_Reference > 2.5\n",
      "      if Casualty_Reference <= 3.5:\n",
      "        Class 2 with conf 39.50%\n",
      "        Class 3 with conf 30.49%\n",
      "        Class 4 with conf 16.18%\n",
      "        Class 5 with conf 7.11%\n",
      "        Class 6 with conf 2.27%\n",
      "        Class 7 with conf 1.16%\n",
      "        Class 1 with conf 1.03%\n",
      "        Class 9 with conf 0.94%\n",
      "        Class 8 with conf 0.67%\n",
      "        Class 0 with conf 0.65%\n",
      "\n",
      "      else:  # if Casualty_Reference > 3.5\n",
      "        Class 4 with conf 27.38%\n",
      "        Class 3 with conf 24.06%\n",
      "        Class 5 with conf 20.14%\n",
      "        Class 6 with conf 10.21%\n",
      "        Class 7 with conf 6.72%\n",
      "        Class 9 with conf 5.00%\n",
      "        Class 8 with conf 4.40%\n",
      "        Class 2 with conf 0.95%\n",
      "        Class 1 with conf 0.60%\n",
      "        Class 0 with conf 0.54%\n",
      "\n"
     ]
    }
   ],
   "source": [
    "decision_rules(clf, X_new.columns, 3)"
   ]
  },
  {
   "cell_type": "code",
   "execution_count": null,
   "metadata": {},
   "outputs": [],
   "source": []
  }
 ],
 "metadata": {
  "kernelspec": {
   "display_name": "Python 3",
   "language": "python",
   "name": "python3"
  },
  "language_info": {
   "codemirror_mode": {
    "name": "ipython",
    "version": 3
   },
   "file_extension": ".py",
   "mimetype": "text/x-python",
   "name": "python",
   "nbconvert_exporter": "python",
   "pygments_lexer": "ipython3",
   "version": "3.7.3"
  }
 },
 "nbformat": 4,
 "nbformat_minor": 2
}
